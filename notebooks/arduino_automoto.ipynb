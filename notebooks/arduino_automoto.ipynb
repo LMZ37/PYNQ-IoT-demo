{
 "cells": [
  {
   "cell_type": "markdown",
   "metadata": {},
   "source": [
    "# Automoto Example\n",
    "\n",
    "This example shows how to use the [Automoto](http://www.dfrobot.com.cn/goods-1200.html) on the board.  The automoto has been set in the four corners of the vehicle. The speed and direction of the whole vehicle can be set freely.\n",
    "\n",
    "For this notebook, a PYNQ Arduino is also required.  The automoto is attached to the arbitrary connection to PYNQ."
   ]
  },
  {
   "cell_type": "code",
   "execution_count": 1,
   "metadata": {
    "scrolled": true
   },
   "outputs": [
    {
     "data": {
      "application/javascript": [
       "\n",
       "require(['notebook/js/codecell'], function(codecell) {\n",
       "  codecell.CodeCell.options_default.highlight_modes[\n",
       "      'magic_text/x-csrc'] = {'reg':[/^%%microblaze/]};\n",
       "  Jupyter.notebook.events.one('kernel_ready.Kernel', function(){\n",
       "      Jupyter.notebook.get_cells().map(function(cell){\n",
       "          if (cell.cell_type == 'code'){ cell.auto_highlight(); } }) ;\n",
       "  });\n",
       "});\n"
      ]
     },
     "metadata": {},
     "output_type": "display_data"
    }
   ],
   "source": [
    "# Make sure the base overlay is loaded\n",
    "from pynq.overlays.base import BaseOverlay\n",
    "base = BaseOverlay(\"base.bit\")"
   ]
  },
  {
   "cell_type": "markdown",
   "metadata": {},
   "source": [
    "### 1. Instantiate and set the pins of automotos"
   ]
  },
  {
   "cell_type": "code",
   "execution_count": 2,
   "metadata": {
    "scrolled": true
   },
   "outputs": [],
   "source": [
    "from pynq.lib.arduino import Automoto\n",
    "from time import sleep"
   ]
  },
  {
   "cell_type": "markdown",
   "metadata": {},
   "source": [
    "Before you use automoto, you can set the pins connected to arduino freely.\n",
    "\n",
    "the PINS should obey the rules as followed:\n",
    "\n",
    "PINS[0:4] is set the pins to control the pwm generate io for motor a,b,c,d in sequence\n",
    "\n",
    "PINS[4:8] is to set the pin to control the direction of motor (1 normal, 0 reverse)\n",
    "\n",
    "PINS[8:12] is to set the pins to record the velocity(FG)\n",
    "\n",
    " * auotmoto a: right front\n",
    " * auotmoto b: right rear\n",
    " * automoto c: left sacro-anterior / left front\n",
    " * auotmoto d: left rear"
   ]
  },
  {
   "cell_type": "code",
   "execution_count": 3,
   "metadata": {},
   "outputs": [],
   "source": [
    "PINS = [6,9,10,11,7,8,12,13,4,5,18,19]\n",
    "\n",
    "# Instantiate automoto on Arduino\n",
    "motor = Automoto(base.ARDUINO,PINS)"
   ]
  },
  {
   "cell_type": "markdown",
   "metadata": {},
   "source": [
    "There are six moving model provided, each model can adjust velocity freely"
   ]
  },
  {
   "cell_type": "code",
   "execution_count": 4,
   "metadata": {},
   "outputs": [],
   "source": [
    "DIRECTION = [\"FORWARD\",\"BACKWARD\",\n",
    "             \"LEFT_S\",\"RIGHT_S\",\n",
    "             \"LEFT_R\",\"RIGHT_R\"]"
   ]
  },
  {
   "cell_type": "markdown",
   "metadata": {},
   "source": [
    "Now, you can test the motor by control it to move as you like"
   ]
  },
  {
   "cell_type": "markdown",
   "metadata": {},
   "source": [
    "### 2. Control the car to move\n",
    "\n",
    "input the direction into motor.move() function, the default power is set as 50%\n",
    "\n",
    "and the range of power is from 0 - 100 (unit: percent)\n",
    "\n",
    "e.g.\n",
    "* motor.move(\"FORWARD\") legal\n",
    "* motor.move(\"BACKWARD\", 60) legal\n",
    "* motor.move(\"backward\") illegal\n",
    "* motor.move(\"LEFT_S\",101) illegal"
   ]
  },
  {
   "cell_type": "code",
   "execution_count": 15,
   "metadata": {},
   "outputs": [],
   "source": [
    "motor.move(\"FORWARD\", 50)# 50 is the power of the motor\n",
    "sleep(2)\n",
    "motor.stop()"
   ]
  },
  {
   "cell_type": "code",
   "execution_count": 6,
   "metadata": {},
   "outputs": [],
   "source": [
    "motor.move(\"BACKWARD\", 50)# 50 is the power of the motor\n",
    "sleep(2)\n",
    "motor.stop()"
   ]
  },
  {
   "cell_type": "code",
   "execution_count": 11,
   "metadata": {},
   "outputs": [],
   "source": [
    "motor.move(\"LEFT_S\", 50)# 50 is the power of the motor\n",
    "sleep(2)\n",
    "motor.stop()"
   ]
  },
  {
   "cell_type": "code",
   "execution_count": 9,
   "metadata": {},
   "outputs": [],
   "source": [
    "motor.move(\"RIGHT_S\", 50)# 50 is the power of the motor\n",
    "sleep(2)\n",
    "motor.stop()"
   ]
  },
  {
   "cell_type": "code",
   "execution_count": 9,
   "metadata": {},
   "outputs": [],
   "source": [
    "motor.move(\"LEFT_R\", 50)# 50 is the power of the motor\n",
    "sleep(2)\n",
    "motor.stop()"
   ]
  },
  {
   "cell_type": "code",
   "execution_count": 13,
   "metadata": {},
   "outputs": [],
   "source": [
    "motor.move(\"RIGHT_R\", 50)# 50 is the power of the motor\n",
    "sleep(2)\n",
    "motor.stop()"
   ]
  },
  {
   "cell_type": "code",
   "execution_count": null,
   "metadata": {},
   "outputs": [],
   "source": []
  }
 ],
 "metadata": {
  "kernelspec": {
   "display_name": "Python 3",
   "language": "python",
   "name": "python3"
  },
  "language_info": {
   "codemirror_mode": {
    "name": "ipython",
    "version": 3
   },
   "file_extension": ".py",
   "mimetype": "text/x-python",
   "name": "python",
   "nbconvert_exporter": "python",
   "pygments_lexer": "ipython3",
   "version": "3.6.5"
  }
 },
 "nbformat": 4,
 "nbformat_minor": 1
}
