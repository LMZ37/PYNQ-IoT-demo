{
 "cells": [
  {
   "cell_type": "markdown",
   "metadata": {},
   "source": [
    "# Linetracker Example\n",
    "\n",
    "This example shows how to use the [Linetracker](http://www.dfrobot.com.cn/goods-784.html) on the board.  The Linetraker has 2 models: digital and analog model.\n",
    "\n",
    "For this notebook, a PYNQ Arduino is required, and the pins of linetracker should be set in the A0-A5."
   ]
  },
  {
   "cell_type": "code",
   "execution_count": 1,
   "metadata": {},
   "outputs": [
    {
     "data": {
      "application/javascript": [
       "\n",
       "require(['notebook/js/codecell'], function(codecell) {\n",
       "  codecell.CodeCell.options_default.highlight_modes[\n",
       "      'magic_text/x-csrc'] = {'reg':[/^%%microblaze/]};\n",
       "  Jupyter.notebook.events.one('kernel_ready.Kernel', function(){\n",
       "      Jupyter.notebook.get_cells().map(function(cell){\n",
       "          if (cell.cell_type == 'code'){ cell.auto_highlight(); } }) ;\n",
       "  });\n",
       "});\n"
      ]
     },
     "metadata": {},
     "output_type": "display_data"
    }
   ],
   "source": [
    "# Make sure the base overlay is loaded\n",
    "from pynq.overlays.base import BaseOverlay\n",
    "base = BaseOverlay(\"base.bit\")"
   ]
  },
  {
   "cell_type": "markdown",
   "metadata": {},
   "source": [
    "### 1. Instantiate linetracker"
   ]
  },
  {
   "cell_type": "markdown",
   "metadata": {},
   "source": [
    "Before use the linetrackers(at most 2), you should set the pins for them\n",
    "\n",
    "This notebook is also for testing the capacity of linetracker"
   ]
  },
  {
   "cell_type": "code",
   "execution_count": 2,
   "metadata": {},
   "outputs": [],
   "source": [
    "LT_PINS = [\"CHANNEL_A0\",\"CHANNEL_A1\",\"CHANNEL_A2\",\n",
    "           \"CHANNEL_A3\",\"CHANNEL_A4\",\"CHANNEL_A5\"]"
   ]
  },
  {
   "cell_type": "code",
   "execution_count": 3,
   "metadata": {},
   "outputs": [],
   "source": [
    "from pynq.lib.arduino import LT_sen\n",
    "\n",
    "# Instantiate linetracker on Arduino\n",
    "linetrack = LT_sen(base.ARDUINO,\"CHANNEL_A3\",\"CHANNEL_A2\")\n",
    "#default pins is left:CHANNEL_A3, right:CHANNEL_A2\n",
    "#if you set the pins as the default configuration\n",
    "#linetrack = LT_sen(base.ARDUINO) such a format is legal"
   ]
  },
  {
   "cell_type": "markdown",
   "metadata": {},
   "source": [
    "### 2. Test the capacity of linetracker\n",
    "\n",
    "run the code below, linetrackers will print the voltage level every second"
   ]
  },
  {
   "cell_type": "code",
   "execution_count": 5,
   "metadata": {},
   "outputs": [
    {
     "name": "stdout",
     "output_type": "stream",
     "text": [
      "[65535, 16040, 1079320035, 1062257451]\n",
      "[65535, 16018, 1079320035, 1062231877]\n",
      "[65535, 16004, 1079320035, 1062214827]\n",
      "[65535, 15988, 1079320035, 1062203745]\n",
      "[65535, 15984, 1079320035, 1062206302]\n",
      "[65535, 15974, 1079320035, 1062193515]\n",
      "[65535, 15964, 1079320035, 1062186695]\n",
      "[65535, 15974, 1079320035, 1062183285]\n",
      "[65535, 15982, 1079320035, 1062183285]\n",
      "[65535, 15960, 1079320035, 1062174761]\n",
      "[65535, 15942, 1079320035, 1062174761]\n",
      "[65535, 15948, 1079320035, 1062165383]\n",
      "[65535, 15939, 1079320035, 1062161973]\n",
      "[65535, 15934, 1079320035, 1062152596]\n",
      "[65535, 15935, 1079320035, 1062150891]\n",
      "[65535, 15931, 1079320035, 1062164531]\n",
      "[65535, 15924, 1079320035, 1062151744]\n",
      "[65535, 15922, 1079320035, 1062146629]\n",
      "[65535, 15920, 1079320035, 1062144071]\n",
      "[65535, 15939, 1079320035, 1062157711]\n",
      "[65535, 15922, 1079320035, 1062150039]\n",
      "[1728, 15915, 1035153940, 1062147481]\n",
      "[1363, 15909, 1032719257, 1062133842]\n",
      "[1310, 15899, 1032426004, 1062135547]\n",
      "[1311, 15898, 1032350986, 1062132137]\n",
      "[65535, 15404, 1079320035, 1061625764]\n",
      "[65535, 13131, 1079320035, 1059911426]\n",
      "[1577, 15507, 1034185523, 1061782620]\n",
      "[1440, 14610, 1033094349, 1061225950]\n",
      "[1540, 12832, 1033858171, 1059575549]\n",
      "[1311, 16038, 1032405545, 1062242107]\n",
      "[65535, 14597, 1079320035, 1061225950]\n",
      "[65535, 14004, 1079320035, 1060696560]\n",
      "[65535, 12846, 1079320035, 1059506498]\n",
      "[65535, 13073, 1079320035, 1059590041]\n",
      "[65535, 14330, 1079320035, 1060607050]\n",
      "[1691, 10608, 1034928885, 1057611435]\n",
      "[65535, 13179, 1079320035, 1059644600]\n",
      "[436, 10229, 1018472202, 1057290050]\n",
      "[432, 10173, 1018690437, 1057255951]\n",
      "[525, 10151, 1020900065, 1057232934]\n",
      "[525, 10120, 1020572713, 1057212475]\n",
      "[519, 10106, 1020900065, 1057186048]\n",
      "[522, 10092, 1020872786, 1057180933]\n"
     ]
    },
    {
     "ename": "KeyboardInterrupt",
     "evalue": "",
     "output_type": "error",
     "traceback": [
      "\u001b[0;31m---------------------------------------------------------------------------\u001b[0m",
      "\u001b[0;31mKeyboardInterrupt\u001b[0m                         Traceback (most recent call last)",
      "\u001b[0;32m<ipython-input-5-05e01857dba5>\u001b[0m in \u001b[0;36m<module>\u001b[0;34m()\u001b[0m\n\u001b[1;32m      2\u001b[0m \u001b[0;32mwhile\u001b[0m \u001b[0;34m(\u001b[0m\u001b[0;36m1\u001b[0m\u001b[0;34m)\u001b[0m\u001b[0;34m:\u001b[0m\u001b[0;34m\u001b[0m\u001b[0m\n\u001b[1;32m      3\u001b[0m     \u001b[0mprint\u001b[0m\u001b[0;34m(\u001b[0m\u001b[0mlinetrack\u001b[0m\u001b[0;34m.\u001b[0m\u001b[0mread_lt_data\u001b[0m\u001b[0;34m(\u001b[0m\u001b[0;34m)\u001b[0m\u001b[0;34m)\u001b[0m\u001b[0;34m\u001b[0m\u001b[0m\n\u001b[0;32m----> 4\u001b[0;31m     \u001b[0msleep\u001b[0m\u001b[0;34m(\u001b[0m\u001b[0;36m1\u001b[0m\u001b[0;34m)\u001b[0m\u001b[0;34m\u001b[0m\u001b[0m\n\u001b[0m",
      "\u001b[0;31mKeyboardInterrupt\u001b[0m: "
     ]
    }
   ],
   "source": [
    "from time import sleep\n",
    "while (1):\n",
    "    print(linetrack.read_lt_data())\n",
    "    sleep(1)"
   ]
  },
  {
   "cell_type": "code",
   "execution_count": null,
   "metadata": {},
   "outputs": [],
   "source": []
  }
 ],
 "metadata": {
  "kernelspec": {
   "display_name": "Python 3",
   "language": "python",
   "name": "python3"
  },
  "language_info": {
   "codemirror_mode": {
    "name": "ipython",
    "version": 3
   },
   "file_extension": ".py",
   "mimetype": "text/x-python",
   "name": "python",
   "nbconvert_exporter": "python",
   "pygments_lexer": "ipython3",
   "version": "3.6.5"
  }
 },
 "nbformat": 4,
 "nbformat_minor": 1
}
