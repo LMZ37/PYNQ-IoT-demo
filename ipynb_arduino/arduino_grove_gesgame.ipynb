{
 "cells": [
  {
   "cell_type": "markdown",
   "metadata": {},
   "source": [
    "# Grove gesture game Example\n",
    "\n",
    "This example shows how to combine the [Grove LED Bar](http://www.seeedstudio.com/depot/Grove-LED-Bar-v20-p-2474.html) and [grove_gesture](https://www.seeedstudio.com/Grove-Gesture-PAJ7620U-p-2463.html) on the Pynq-Z2 board.  \n",
    "\n",
    "The LED bar has 10 LEDs: 8 green LEDs, 1 orange LED, and 1 red LED. The brightness for each LED can be set independantly.\n",
    "\n",
    "The gesture sensor can detect 10 gestures as follows:\n",
    "\n",
    "| Raw value read by sensor | Gesture            |\n",
    "|--------------------------|--------------------|\n",
    "| 0                        | No detection       |\n",
    "| 1                        | forward            |\n",
    "| 2                        | backward           |\n",
    "| 3                        | right              |\n",
    "| 4                        | left               |\n",
    "| 5                        | up                 |\n",
    "| 6                        | down               |\n",
    "| 7                        | clockwise          |\n",
    "| 8                        | counter-clockwise  |\n",
    "| 9                        | wave               |\n",
    "\n",
    "\n",
    "For this notebook, a PYNQ Arduino shield is also required.  The LED bar is attached to the G4 connection on the shield. The grove LED bar also works with PMODA and PMODB on the Pynq-Z1 board.And the gr_pins of usranger should be set in the I2C."
   ]
  },
  {
   "cell_type": "code",
   "execution_count": 1,
   "metadata": {},
   "outputs": [
    {
     "data": {
      "application/javascript": [
       "\n",
       "require(['notebook/js/codecell'], function(codecell) {\n",
       "  codecell.CodeCell.options_default.highlight_modes[\n",
       "      'magic_text/x-csrc'] = {'reg':[/^%%microblaze/]};\n",
       "  Jupyter.notebook.events.one('kernel_ready.Kernel', function(){\n",
       "      Jupyter.notebook.get_cells().map(function(cell){\n",
       "          if (cell.cell_type == 'code'){ cell.auto_highlight(); } }) ;\n",
       "  });\n",
       "});\n"
      ]
     },
     "metadata": {},
     "output_type": "display_data"
    }
   ],
   "source": [
    "# Make sure the base overlay is loaded\n",
    "from pynq.overlays.base import BaseOverlay\n",
    "base = BaseOverlay(\"base.bit\")"
   ]
  },
  {
   "cell_type": "markdown",
   "metadata": {},
   "source": [
    "### 1. Instantiate and reset LED Bar and Gesture Sensor"
   ]
  },
  {
   "cell_type": "code",
   "execution_count": 2,
   "metadata": {},
   "outputs": [],
   "source": [
    "PINS = {\"ARDUINO_GROVE_G1\":[2,3],\"ARDUINO_GROVE_G2\":[3,4],\"ARDUINO_GROVE_G3\":[4,5],\n",
    "        \"ARDUINO_GROVE_G4\":[6,7],\"ARDUINO_GROVE_G5\":[8,9],\"ARDUINO_GROVE_G6\":[10,11],\"ARDUINO_GROVE_G7\":[12,13]}\n",
    "\n",
    "GESTURE_MAP = {0: \"no-detection\",\n",
    "\n",
    "               1: \"forward\",\n",
    "\n",
    "               2: \"backward\",\n",
    "\n",
    "               3: \"right\",\n",
    "\n",
    "               4: \"left\",\n",
    "\n",
    "               5: \"up\",\n",
    "\n",
    "               6: \"down\",\n",
    "\n",
    "               7: \"clockwise\",\n",
    "\n",
    "               8: \"counter-clockwise\",\n",
    "\n",
    "               9: \"wave\"\n",
    "\n",
    "               }"
   ]
  },
  {
   "cell_type": "code",
   "execution_count": 3,
   "metadata": {},
   "outputs": [],
   "source": [
    "from pynq.lib.arduino import Grove_gesgame\n",
    "\n",
    "# Instantiate Grove LED Bar on Arduino shield G4 and Gesture sensor on I2C\n",
    "gesgame = Grove_gesgame(base.ARDUINO,PINS['ARDUINO_GROVE_G4'])\n",
    "gesgame.write_binary(0b1111111111)"
   ]
  },
  {
   "cell_type": "markdown",
   "metadata": {},
   "source": [
    "### 2. Design your own rules!\n",
    "\n",
    "You can change the mode of ledbar corresponding to certain gesture.\n",
    "\n",
    "Here, I provide 5 modes of ledbar correponding to 5 gesture(\"forward\",\"backward\",\"right\",\"left\", \"wave\")"
   ]
  },
  {
   "cell_type": "code",
   "execution_count": 9,
   "metadata": {},
   "outputs": [],
   "source": [
    "from time import sleep\n",
    "    \n",
    "def led_forward():\n",
    "    gesgame.write_binary(0b0000000000)\n",
    "    sleep(0.4)\n",
    "    gesgame.write_binary(0b0000000001)\n",
    "    sleep(0.4)\n",
    "    gesgame.write_binary(0b0000000011)\n",
    "    sleep(0.4)\n",
    "    gesgame.write_binary(0b0000000111)\n",
    "    sleep(0.4)\n",
    "    gesgame.write_binary(0b0000001111)\n",
    "    sleep(0.4)\n",
    "    gesgame.write_binary(0b0000011111)\n",
    "    sleep(0.4)\n",
    "    gesgame.write_binary(0b0000111111)\n",
    "    sleep(0.4)\n",
    "    gesgame.write_binary(0b0001111111)\n",
    "    sleep(0.4)\n",
    "    gesgame.write_binary(0b0011111111)\n",
    "    sleep(0.4)\n",
    "    gesgame.write_binary(0b0111111111)\n",
    "    sleep(0.4)\n",
    "    gesgame.write_binary(0b1111111111)\n",
    "    sleep(0.4)\n",
    "\n",
    "def led_backward():\n",
    "    gesgame.write_binary(0b1111111111)\n",
    "    sleep(0.4)\n",
    "    gesgame.write_binary(0b0111111111)\n",
    "    sleep(0.4)\n",
    "    gesgame.write_binary(0b0011111111)\n",
    "    sleep(0.4)\n",
    "    gesgame.write_binary(0b0001111111)\n",
    "    sleep(0.4)\n",
    "    gesgame.write_binary(0b0000111111)\n",
    "    sleep(0.4)\n",
    "    gesgame.write_binary(0b0000011111)\n",
    "    sleep(0.4)\n",
    "    gesgame.write_binary(0b0000001111)\n",
    "    sleep(0.4)\n",
    "    gesgame.write_binary(0b0000000111)\n",
    "    sleep(0.4)\n",
    "    gesgame.write_binary(0b0000000011)\n",
    "    sleep(0.4)\n",
    "    gesgame.write_binary(0b0000000001)\n",
    "    sleep(0.4)\n",
    "    gesgame.write_binary(0b0000000000)\n",
    "    sleep(0.4)\n",
    "    gesgame.write_binary(0b1111111111)\n",
    "\n",
    "def led_right():\n",
    "    gesgame.write_binary(0b0000000000)\n",
    "    sleep(0.8)\n",
    "    gesgame.write_binary(0b0000000011)\n",
    "    sleep(0.8)\n",
    "    gesgame.write_binary(0b0000001111)\n",
    "    sleep(0.8)\n",
    "    gesgame.write_binary(0b0000111111)\n",
    "    sleep(0.8)\n",
    "    gesgame.write_binary(0b0011111111)\n",
    "    sleep(0.8)\n",
    "    gesgame.write_binary(0b1111111111)\n",
    "    sleep(0.8)\n",
    "    \n",
    "def led_left():\n",
    "    gesgame.write_binary(0b1111111111)\n",
    "    sleep(0.8)\n",
    "    gesgame.write_binary(0b0011111111)\n",
    "    sleep(0.8)\n",
    "    gesgame.write_binary(0b0000111111)\n",
    "    sleep(0.8)\n",
    "    gesgame.write_binary(0b0000001111)\n",
    "    sleep(0.8)\n",
    "    gesgame.write_binary(0b0000000011)\n",
    "    sleep(0.8)\n",
    "    gesgame.write_binary(0b0000000000)\n",
    "    sleep(0.8)\n",
    "    gesgame.write_binary(0b1111111111)\n",
    "    \n",
    "def led_wave():\n",
    "    for i in range(3):\n",
    "        gesgame.write_binary(0b1010101010)\n",
    "        sleep(0.6)\n",
    "        gesgame.write_binary(0b0101010101)\n",
    "        sleep(0.6)\n",
    "    gesgame.write_binary(0b1111111111)\n",
    "\n",
    "led_forward()\n",
    "led_backward()\n",
    "led_right()\n",
    "led_left()\n",
    "led_wave()"
   ]
  },
  {
   "cell_type": "markdown",
   "metadata": {},
   "source": [
    "### 3. Let's play game now!\n",
    "\n",
    "Now,keep your eyes on the mode of ledbar corresponding to certain gesture.\n",
    "\n",
    "Here, I provide 5 modes of ledbar correponding to 5 gesture(\"forward\",\"backward\",\"right\",\"left\", \"wave\")\n",
    "\n",
    "There are total 3 rounds in total. "
   ]
  },
  {
   "cell_type": "code",
   "execution_count": 14,
   "metadata": {},
   "outputs": [
    {
     "name": "stdout",
     "output_type": "stream",
     "text": [
      "There are 5 modes of ledbar corresponding to certain gesture provided.\n",
      "\n",
      "When you see the bright part of ledbar increasing by step one, you should give the gesture \"forward\".\n",
      "\n",
      "When you see the bright part of ledbar decreasing by step one, you should give the gesture \"backward\".\n",
      "\n",
      "When you see the bright part of ledbar increasing by step two, you should give the gesture \"right\".\n",
      "\n",
      "When you see the bright part of ledbar decreasing by step two, you should give the gesture \"left\".\n",
      "\n",
      "When you see the bright part of ledbar flashing, you should give the gesture \"wave\".\n",
      "\n",
      "round 1, give your gesture now\n",
      "In this round, we expect backward while you gave no-detection\n",
      "round 2, give your gesture now\n",
      "In this round, we expect right while you gave no-detection\n",
      "round 3, give your gesture now\n",
      "In this round, we expect wave while you gave up\n",
      "Your score is 0 in total\n"
     ]
    }
   ],
   "source": [
    "import random\n",
    "\n",
    "corresponding_ges = {0: \"no-detection\",\n",
    "\n",
    "               1: \"forward\",\n",
    "\n",
    "               2: \"backward\",\n",
    "\n",
    "               3: \"right\",\n",
    "\n",
    "               4: \"left\",\n",
    "\n",
    "               9: \"wave\"\n",
    "               }\n",
    "\n",
    "def game():\n",
    "    print('There are 5 modes of ledbar corresponding to certain gesture provided.\\n')\n",
    "    print('When you see the bright part of ledbar increasing by step one, you should give the gesture \"forward\".\\n')\n",
    "    print('When you see the bright part of ledbar decreasing by step one, you should give the gesture \"backward\".\\n')\n",
    "    print('When you see the bright part of ledbar increasing by step two, you should give the gesture \"right\".\\n')\n",
    "    print('When you see the bright part of ledbar decreasing by step two, you should give the gesture \"left\".\\n')\n",
    "    print('When you see the bright part of ledbar flashing, you should give the gesture \"wave\".\\n')\n",
    "    \n",
    "    sleep(5)\n",
    "    round = 3\n",
    "    score = 0\n",
    "    for i in range(round):\n",
    "        rand = random.randint(1,5)\n",
    "        if rand == 1: led_forward()\n",
    "        elif rand == 2: led_backward()\n",
    "        elif rand == 3: led_right()\n",
    "        elif rand == 4: led_left()\n",
    "        elif rand == 5: \n",
    "            led_wave()\n",
    "            rand = 9\n",
    "        print('round {}, give your gesture now'.format(i+1))\n",
    "        sleep(5)\n",
    "        ans = gesgame.get_gesture()\n",
    "        if ans == rand:\n",
    "            score = score + 1\n",
    "            print('Congratulations! You win this round and get one point!')\n",
    "        else:\n",
    "            print('In this round, we expect {} while you gave {}'.format(GESTURE_MAP[rand], GESTURE_MAP[ans]))\n",
    "    print('Your score is {} in total'.format(score))\n",
    "        \n",
    "        \n",
    "game()"
   ]
  },
  {
   "cell_type": "code",
   "execution_count": null,
   "metadata": {},
   "outputs": [],
   "source": []
  },
  {
   "cell_type": "markdown",
   "metadata": {},
   "source": [
    "### 4. Test the gesture sensor\n",
    "\n",
    "If you can never win the game, you can test the gesture sensor here.\n",
    "\n",
    "Even if the gesture sensor works well, you should never be disappointed because the gesture sensor is not so sensitive."
   ]
  },
  {
   "cell_type": "code",
   "execution_count": 10,
   "metadata": {},
   "outputs": [
    {
     "name": "stdout",
     "output_type": "stream",
     "text": [
      "0\n",
      "0\n",
      "0\n",
      "0\n",
      "5\n",
      "0\n"
     ]
    },
    {
     "ename": "KeyboardInterrupt",
     "evalue": "",
     "output_type": "error",
     "traceback": [
      "\u001b[0;31m---------------------------------------------------------------------------\u001b[0m",
      "\u001b[0;31mKeyboardInterrupt\u001b[0m                         Traceback (most recent call last)",
      "\u001b[0;32m<ipython-input-10-b6e470c91157>\u001b[0m in \u001b[0;36m<module>\u001b[0;34m()\u001b[0m\n\u001b[1;32m      1\u001b[0m \u001b[0;32mwhile\u001b[0m\u001b[0;34m(\u001b[0m\u001b[0;36m1\u001b[0m\u001b[0;34m)\u001b[0m\u001b[0;34m:\u001b[0m\u001b[0;34m\u001b[0m\u001b[0m\n\u001b[0;32m----> 2\u001b[0;31m     \u001b[0mgesture\u001b[0m \u001b[0;34m=\u001b[0m \u001b[0mgesgame\u001b[0m\u001b[0;34m.\u001b[0m\u001b[0mget_gesture\u001b[0m\u001b[0;34m(\u001b[0m\u001b[0;34m)\u001b[0m\u001b[0;34m\u001b[0m\u001b[0m\n\u001b[0m\u001b[1;32m      3\u001b[0m     \u001b[0mprint\u001b[0m\u001b[0;34m(\u001b[0m\u001b[0mgesture\u001b[0m\u001b[0;34m)\u001b[0m\u001b[0;34m\u001b[0m\u001b[0m\n\u001b[1;32m      4\u001b[0m     \u001b[0msleep\u001b[0m\u001b[0;34m(\u001b[0m\u001b[0;36m2\u001b[0m\u001b[0;34m)\u001b[0m\u001b[0;34m\u001b[0m\u001b[0m\n",
      "\u001b[0;32m/usr/local/lib/python3.6/dist-packages/pynq/lib/arduino/arduino_grove_gesgame.py\u001b[0m in \u001b[0;36mget_gesture\u001b[0;34m(self)\u001b[0m\n\u001b[1;32m    119\u001b[0m         \u001b[0;32mNone\u001b[0m\u001b[0;34m\u001b[0m\u001b[0m\n\u001b[1;32m    120\u001b[0m         '''\n\u001b[0;32m--> 121\u001b[0;31m         \u001b[0mself\u001b[0m\u001b[0;34m.\u001b[0m\u001b[0mmicroblaze\u001b[0m\u001b[0;34m.\u001b[0m\u001b[0mwrite_blocking_command\u001b[0m\u001b[0;34m(\u001b[0m\u001b[0mGET_GESTURE\u001b[0m\u001b[0;34m)\u001b[0m\u001b[0;34m\u001b[0m\u001b[0m\n\u001b[0m\u001b[1;32m    122\u001b[0m         \u001b[0mvalue\u001b[0m \u001b[0;34m=\u001b[0m \u001b[0mself\u001b[0m\u001b[0;34m.\u001b[0m\u001b[0mmicroblaze\u001b[0m\u001b[0;34m.\u001b[0m\u001b[0mread_mailbox\u001b[0m\u001b[0;34m(\u001b[0m\u001b[0;36m0\u001b[0m\u001b[0;34m)\u001b[0m\u001b[0;34m\u001b[0m\u001b[0m\n\u001b[1;32m    123\u001b[0m         \u001b[0;32mreturn\u001b[0m \u001b[0mvalue\u001b[0m\u001b[0;34m\u001b[0m\u001b[0m\n",
      "\u001b[0;32m/usr/local/lib/python3.6/dist-packages/pynq/lib/arduino/arduino.py\u001b[0m in \u001b[0;36mwrite_blocking_command\u001b[0;34m(self, command)\u001b[0m\n\u001b[1;32m    153\u001b[0m         \"\"\"\n\u001b[1;32m    154\u001b[0m         \u001b[0mself\u001b[0m\u001b[0;34m.\u001b[0m\u001b[0mwrite\u001b[0m\u001b[0;34m(\u001b[0m\u001b[0mMAILBOX_OFFSET\u001b[0m \u001b[0;34m+\u001b[0m \u001b[0mMAILBOX_PY2IOP_CMD_OFFSET\u001b[0m\u001b[0;34m,\u001b[0m \u001b[0mcommand\u001b[0m\u001b[0;34m)\u001b[0m\u001b[0;34m\u001b[0m\u001b[0m\n\u001b[0;32m--> 155\u001b[0;31m         \u001b[0;32mwhile\u001b[0m \u001b[0mself\u001b[0m\u001b[0;34m.\u001b[0m\u001b[0mread\u001b[0m\u001b[0;34m(\u001b[0m\u001b[0mMAILBOX_OFFSET\u001b[0m \u001b[0;34m+\u001b[0m \u001b[0mMAILBOX_PY2IOP_CMD_OFFSET\u001b[0m\u001b[0;34m)\u001b[0m \u001b[0;34m!=\u001b[0m \u001b[0;36m0\u001b[0m\u001b[0;34m:\u001b[0m\u001b[0;34m\u001b[0m\u001b[0m\n\u001b[0m\u001b[1;32m    156\u001b[0m             \u001b[0;32mpass\u001b[0m\u001b[0;34m\u001b[0m\u001b[0m\n\u001b[1;32m    157\u001b[0m \u001b[0;34m\u001b[0m\u001b[0m\n",
      "\u001b[0;32m/usr/local/lib/python3.6/dist-packages/pynq/lib/pynqmicroblaze/pynqmicroblaze.py\u001b[0m in \u001b[0;36mread\u001b[0;34m(self, offset, length)\u001b[0m\n\u001b[1;32m    304\u001b[0m         \"\"\"\n\u001b[1;32m    305\u001b[0m         \u001b[0;32mif\u001b[0m \u001b[0mlength\u001b[0m \u001b[0;34m==\u001b[0m \u001b[0;36m1\u001b[0m\u001b[0;34m:\u001b[0m\u001b[0;34m\u001b[0m\u001b[0m\n\u001b[0;32m--> 306\u001b[0;31m             \u001b[0;32mreturn\u001b[0m \u001b[0mself\u001b[0m\u001b[0;34m.\u001b[0m\u001b[0mmmio\u001b[0m\u001b[0;34m.\u001b[0m\u001b[0mread\u001b[0m\u001b[0;34m(\u001b[0m\u001b[0moffset\u001b[0m\u001b[0;34m)\u001b[0m\u001b[0;34m\u001b[0m\u001b[0m\n\u001b[0m\u001b[1;32m    307\u001b[0m         \u001b[0;32melif\u001b[0m \u001b[0mlength\u001b[0m \u001b[0;34m>\u001b[0m \u001b[0;36m1\u001b[0m\u001b[0;34m:\u001b[0m\u001b[0;34m\u001b[0m\u001b[0m\n\u001b[1;32m    308\u001b[0m             \u001b[0;32mreturn\u001b[0m \u001b[0;34m[\u001b[0m\u001b[0mself\u001b[0m\u001b[0;34m.\u001b[0m\u001b[0mmmio\u001b[0m\u001b[0;34m.\u001b[0m\u001b[0mread\u001b[0m\u001b[0;34m(\u001b[0m\u001b[0moffset\u001b[0m \u001b[0;34m+\u001b[0m \u001b[0;36m4\u001b[0m\u001b[0;34m*\u001b[0m\u001b[0mi\u001b[0m\u001b[0;34m)\u001b[0m \u001b[0;32mfor\u001b[0m \u001b[0mi\u001b[0m \u001b[0;32min\u001b[0m \u001b[0mrange\u001b[0m\u001b[0;34m(\u001b[0m\u001b[0mlength\u001b[0m\u001b[0;34m)\u001b[0m\u001b[0;34m]\u001b[0m\u001b[0;34m\u001b[0m\u001b[0m\n",
      "\u001b[0;32m/usr/local/lib/python3.6/dist-packages/pynq/mmio.py\u001b[0m in \u001b[0;36mread\u001b[0;34m(self, offset, length)\u001b[0m\n\u001b[1;32m    137\u001b[0m \u001b[0;34m\u001b[0m\u001b[0m\n\u001b[1;32m    138\u001b[0m         self._debug('Reading {0} bytes from offset {1:x}',\n\u001b[0;32m--> 139\u001b[0;31m                     length, offset)\n\u001b[0m\u001b[1;32m    140\u001b[0m \u001b[0;34m\u001b[0m\u001b[0m\n\u001b[1;32m    141\u001b[0m         \u001b[0;31m# Read data out\u001b[0m\u001b[0;34m\u001b[0m\u001b[0;34m\u001b[0m\u001b[0m\n",
      "\u001b[0;32m/usr/local/lib/python3.6/dist-packages/pynq/mmio.py\u001b[0m in \u001b[0;36m_debug\u001b[0;34m(self, s, *args)\u001b[0m\n\u001b[1;32m    195\u001b[0m \u001b[0;34m\u001b[0m\u001b[0m\n\u001b[1;32m    196\u001b[0m         \"\"\"\n\u001b[0;32m--> 197\u001b[0;31m         \u001b[0;32mif\u001b[0m \u001b[0mself\u001b[0m\u001b[0;34m.\u001b[0m\u001b[0mdebug\u001b[0m\u001b[0;34m:\u001b[0m\u001b[0;34m\u001b[0m\u001b[0m\n\u001b[0m\u001b[1;32m    198\u001b[0m             \u001b[0mprint\u001b[0m\u001b[0;34m(\u001b[0m\u001b[0;34m'MMIO Debug: {}'\u001b[0m\u001b[0;34m.\u001b[0m\u001b[0mformat\u001b[0m\u001b[0;34m(\u001b[0m\u001b[0ms\u001b[0m\u001b[0;34m.\u001b[0m\u001b[0mformat\u001b[0m\u001b[0;34m(\u001b[0m\u001b[0;34m*\u001b[0m\u001b[0margs\u001b[0m\u001b[0;34m)\u001b[0m\u001b[0;34m)\u001b[0m\u001b[0;34m)\u001b[0m\u001b[0;34m\u001b[0m\u001b[0m\n",
      "\u001b[0;31mKeyboardInterrupt\u001b[0m: "
     ]
    }
   ],
   "source": [
    "while(1):\n",
    "    gesture = gesgame.get_gesture()\n",
    "    print(gesture)\n",
    "    sleep(2)"
   ]
  }
 ],
 "metadata": {
  "kernelspec": {
   "display_name": "Python 3",
   "language": "python",
   "name": "python3"
  },
  "language_info": {
   "codemirror_mode": {
    "name": "ipython",
    "version": 3
   },
   "file_extension": ".py",
   "mimetype": "text/x-python",
   "name": "python",
   "nbconvert_exporter": "python",
   "pygments_lexer": "ipython3",
   "version": "3.6.5"
  }
 },
 "nbformat": 4,
 "nbformat_minor": 1
}
