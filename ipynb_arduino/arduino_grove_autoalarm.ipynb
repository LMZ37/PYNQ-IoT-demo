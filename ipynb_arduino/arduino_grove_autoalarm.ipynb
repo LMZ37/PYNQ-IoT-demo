{
 "cells": [
  {
   "cell_type": "markdown",
   "metadata": {},
   "source": [
    "# Grove autoalarm Example\n",
    "\n",
    "This example shows how to combine the [Grove LED Bar](http://www.seeedstudio.com/depot/Grove-LED-Bar-v20-p-2474.html) and [grove_usranger](https://www.seeedstudio.com/Grove-Ultrasonic-Ranger-p-960.html) on the Pynq-Z2 board.  The LED bar has 10 LEDs: 8 green LEDs, 1 orange LED, and 1 red LED. The brightness for each LED can be set independantly.\n",
    "\n",
    "For this notebook, a PYNQ Arduino shield is also required.  The LED bar is attached to the G4 connection on the shield. The grove LED bar also works with PMODA and PMODB on the Pynq-Z1 board.And the gr_pins of usranger should be set in the G1-G7(default:G1)."
   ]
  },
  {
   "cell_type": "code",
   "execution_count": 1,
   "metadata": {},
   "outputs": [
    {
     "data": {
      "application/javascript": [
       "\n",
       "require(['notebook/js/codecell'], function(codecell) {\n",
       "  codecell.CodeCell.options_default.highlight_modes[\n",
       "      'magic_text/x-csrc'] = {'reg':[/^%%microblaze/]};\n",
       "  Jupyter.notebook.events.one('kernel_ready.Kernel', function(){\n",
       "      Jupyter.notebook.get_cells().map(function(cell){\n",
       "          if (cell.cell_type == 'code'){ cell.auto_highlight(); } }) ;\n",
       "  });\n",
       "});\n"
      ]
     },
     "metadata": {},
     "output_type": "display_data"
    }
   ],
   "source": [
    "# Make sure the base overlay is loaded\n",
    "from pynq.overlays.base import BaseOverlay\n",
    "base = BaseOverlay(\"base.bit\")"
   ]
  },
  {
   "cell_type": "markdown",
   "metadata": {},
   "source": [
    "### 1. Instantiate and reset LED Bar and Usranger"
   ]
  },
  {
   "cell_type": "code",
   "execution_count": 3,
   "metadata": {},
   "outputs": [],
   "source": [
    "PINS = {\"ARDUINO_GROVE_G1\":[2,3],\"ARDUINO_GROVE_G2\":[3,4],\"ARDUINO_GROVE_G3\":[4,5],\n",
    "        \"ARDUINO_GROVE_G4\":[6,7],\"ARDUINO_GROVE_G5\":[8,9],\"ARDUINO_GROVE_G6\":[10,11],\"ARDUINO_GROVE_G7\":[12,13]}"
   ]
  },
  {
   "cell_type": "code",
   "execution_count": 4,
   "metadata": {},
   "outputs": [],
   "source": [
    "from pynq.lib.arduino import Grove_autoalarm\n",
    "\n",
    "# Instantiate Grove LED Bar on Arduino shield G4 and Grove Usranger on G1\n",
    "grove_autoalarm = Grove_autoalarm(base.ARDUINO,PINS[\"ARDUINO_GROVE_G1\"],PINS['ARDUINO_GROVE_G4'])\n",
    "grove_autoalarm.write_binary(0b1111111111)"
   ]
  },
  {
   "cell_type": "markdown",
   "metadata": {},
   "source": [
    "### 2. Use LED Bar demonstrate the distance\n",
    "\n",
    "Write a 10-bit binary pattern, with each bit representing the corresponding LED. 1 = on, 0 = off"
   ]
  },
  {
   "cell_type": "code",
   "execution_count": 9,
   "metadata": {},
   "outputs": [
    {
     "name": "stdout",
     "output_type": "stream",
     "text": [
      "26.65741379310345\n",
      "27.74775862068966\n",
      "33.80879310344828\n",
      "54.236724137931034\n",
      "54.236724137931034\n",
      "55.19879310344828\n",
      "56.064655172413794\n",
      "43.81431034482759\n",
      "43.07672413793104\n",
      "43.94258620689655\n",
      "48.07948275862069\n",
      "48.68879310344828\n",
      "49.747068965517244\n",
      "55.26293103448276\n",
      "55.070517241379314\n",
      "53.59534482758621\n",
      "50.32431034482759\n",
      "24.252241379310348\n",
      "54.910172413793106\n",
      "49.93948275862069\n",
      "49.650862068965516\n",
      "49.586724137931036\n",
      "49.20189655172414\n",
      "49.618793103448276\n",
      "55.038448275862066\n",
      "28.196724137931035\n",
      "48.68879310344828\n",
      "27.972241379310347\n",
      "30.762241379310346\n",
      "22.29603448275862\n",
      "6.9670689655172415\n",
      "2.1567241379310347\n",
      "2.733965517241379\n",
      "4.1129310344827585\n",
      "6.005000000000001\n",
      "10.238103448275863\n",
      "16.04258620689655\n",
      "30.281206896551723\n",
      "44.07086206896552\n",
      "49.811206896551724\n",
      "48.36810344827586\n",
      "47.82293103448276\n",
      "43.01258620689655\n",
      "32.654310344827586\n",
      "23.38637931034483\n",
      "11.071896551724137\n",
      "2.8622413793103445\n",
      "1.8681034482758623\n",
      "4.145\n",
      "12.258448275862069\n",
      "21.04534482758621\n",
      "36.72706896551724\n",
      "42.371206896551726\n",
      "46.21948275862069\n",
      "47.630517241379316\n",
      "47.37396551724138\n",
      "45.48189655172414\n",
      "34.386034482758625\n",
      "22.199827586206894\n",
      "11.649137931034483\n",
      "4.3694827586206895\n",
      "5.844655172413793\n",
      "16.074655172413795\n",
      "28.13258620689655\n",
      "37.46465517241379\n",
      "43.84637931034483\n",
      "47.40603448275862\n",
      "47.053275862068965\n",
      "47.21362068965517\n",
      "26.01603448275862\n",
      "11.392586206896551\n",
      "3.7601724137931036\n",
      "1.7077586206896551\n",
      "17.068793103448275\n",
      "46.123275862068965\n",
      "39.22844827586207\n",
      "42.627758620689654\n",
      "18.28741379310345\n",
      "18.576034482758622\n",
      "18.095\n",
      "37.78534482758621\n",
      "38.36258620689655\n",
      "39.67741379310345\n",
      "43.62189655172414\n",
      "43.365344827586206\n"
     ]
    },
    {
     "ename": "KeyboardInterrupt",
     "evalue": "",
     "output_type": "error",
     "traceback": [
      "\u001b[0;31m---------------------------------------------------------------------------\u001b[0m",
      "\u001b[0;31mKeyboardInterrupt\u001b[0m                         Traceback (most recent call last)",
      "\u001b[0;32m<ipython-input-9-95e8929d506a>\u001b[0m in \u001b[0;36m<module>\u001b[0;34m()\u001b[0m\n\u001b[1;32m     21\u001b[0m     \u001b[0;32melif\u001b[0m \u001b[0;36m10\u001b[0m \u001b[0;34m<\u001b[0m \u001b[0mdistance\u001b[0m \u001b[0;34m<\u001b[0m \u001b[0;36m20\u001b[0m\u001b[0;34m:\u001b[0m \u001b[0mgrove_autoalarm\u001b[0m\u001b[0;34m.\u001b[0m\u001b[0mwrite_binary\u001b[0m\u001b[0;34m(\u001b[0m\u001b[0mled_state\u001b[0m\u001b[0;34m[\u001b[0m\u001b[0;36m9\u001b[0m\u001b[0;34m]\u001b[0m\u001b[0;34m)\u001b[0m\u001b[0;34m\u001b[0m\u001b[0m\n\u001b[1;32m     22\u001b[0m     \u001b[0;32melif\u001b[0m \u001b[0mdistance\u001b[0m \u001b[0;34m<\u001b[0m \u001b[0;36m10\u001b[0m\u001b[0;34m:\u001b[0m \u001b[0mgrove_autoalarm\u001b[0m\u001b[0;34m.\u001b[0m\u001b[0mwrite_binary\u001b[0m\u001b[0;34m(\u001b[0m\u001b[0mled_state\u001b[0m\u001b[0;34m[\u001b[0m\u001b[0;36m10\u001b[0m\u001b[0;34m]\u001b[0m\u001b[0;34m)\u001b[0m\u001b[0;34m\u001b[0m\u001b[0m\n\u001b[0;32m---> 23\u001b[0;31m     \u001b[0msleep\u001b[0m\u001b[0;34m(\u001b[0m\u001b[0;36m0.2\u001b[0m\u001b[0;34m)\u001b[0m\u001b[0;34m\u001b[0m\u001b[0m\n\u001b[0m",
      "\u001b[0;31mKeyboardInterrupt\u001b[0m: "
     ]
    }
   ],
   "source": [
    "from time import sleep\n",
    "\n",
    "led_state = [0b1111111111, 0b0111111111, 0b0011111111, 0b0001111111, 0b0000111111, 0b0000011111,\n",
    "             0b0000001111, 0b0000000111, 0b0000000011, 0b0000000001, 0b0000000000]\n",
    "\n",
    "grove_autoalarm.write_binary(0b1111111111)\n",
    "\n",
    "#ten states, closer the distance, less the bright led.\n",
    "while(1):\n",
    "    distance = grove_autoalarm.get_distance()\n",
    "    print(distance)\n",
    "    if distance > 100: grove_autoalarm.write_binary(led_state[0])\n",
    "    elif 90 < distance < 100: grove_autoalarm.write_binary(led_state[1])\n",
    "    elif 80 < distance < 90: grove_autoalarm.write_binary(led_state[2])\n",
    "    elif 70 < distance < 80: grove_autoalarm.write_binary(led_state[3])\n",
    "    elif 60 < distance < 70: grove_autoalarm.write_binary(led_state[4])\n",
    "    elif 50 < distance < 60: grove_autoalarm.write_binary(led_state[5])\n",
    "    elif 40 < distance < 50: grove_autoalarm.write_binary(led_state[6])\n",
    "    elif 30 < distance < 40: grove_autoalarm.write_binary(led_state[7])\n",
    "    elif 20 < distance < 30: grove_autoalarm.write_binary(led_state[8])\n",
    "    elif 10 < distance < 20: grove_autoalarm.write_binary(led_state[9])\n",
    "    elif distance < 10: grove_autoalarm.write_binary(led_state[10])\n",
    "    sleep(0.2)"
   ]
  },
  {
   "cell_type": "code",
   "execution_count": null,
   "metadata": {},
   "outputs": [],
   "source": []
  }
 ],
 "metadata": {
  "kernelspec": {
   "display_name": "Python 3",
   "language": "python",
   "name": "python3"
  },
  "language_info": {
   "codemirror_mode": {
    "name": "ipython",
    "version": 3
   },
   "file_extension": ".py",
   "mimetype": "text/x-python",
   "name": "python",
   "nbconvert_exporter": "python",
   "pygments_lexer": "ipython3",
   "version": "3.6.5"
  }
 },
 "nbformat": 4,
 "nbformat_minor": 1
}
