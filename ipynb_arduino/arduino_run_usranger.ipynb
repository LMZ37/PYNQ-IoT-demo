{
 "cells": [
  {
   "cell_type": "markdown",
   "metadata": {},
   "source": [
    "# Run usranger Example\n",
    "\n",
    "This example shows how to use the both usranger and automoto on the board. \n",
    "\n",
    "For this notebook, a PYNQ Arduino is also required. Pins of device should be set the same in the previous notebooks."
   ]
  },
  {
   "cell_type": "code",
   "execution_count": 16,
   "metadata": {
    "scrolled": true
   },
   "outputs": [],
   "source": [
    "# Make sure the base overlay is loaded\n",
    "from pynq.overlays.base import BaseOverlay\n",
    "base = BaseOverlay(\"base.bit\")"
   ]
  },
  {
   "cell_type": "markdown",
   "metadata": {},
   "source": [
    "### 1. Instantiate and set the pins of automotos and usrangers"
   ]
  },
  {
   "cell_type": "code",
   "execution_count": 17,
   "metadata": {
    "scrolled": true
   },
   "outputs": [],
   "source": [
    "from pynq.lib.arduino import Run_usranger\n",
    "from time import sleep"
   ]
  },
  {
   "cell_type": "markdown",
   "metadata": {},
   "source": [
    "Before you use automoto, you can set the pins connected to arduino freely.\n",
    "\n",
    "the PINS should obey the rules as followed:\n",
    "\n",
    "PINS[0:4] is set the pins to control the pwm generate io for motor a,b,c,d in sequence\n",
    "\n",
    "PINS[4:8] is to set the pin to control the direction of motor (1 normal, 0 reverse)\n",
    "\n",
    "PINS[8:12] is to set the pins to record the velocity(FG)\n",
    "\n",
    " * auotmoto a: right front\n",
    " * auotmoto b: right rear\n",
    " * automoto c: left sacro-anterior / left front\n",
    " * auotmoto d: left rear"
   ]
  },
  {
   "cell_type": "code",
   "execution_count": 18,
   "metadata": {
    "scrolled": true
   },
   "outputs": [],
   "source": [
    "PINS = [6,9,10,11,7,8,12,13,4,5,18,19] #default pins of automoto\n",
    "\n",
    "# Instantiate automoto on Arduino\n",
    "run_us = Run_usranger(base.ARDUINO, PINS)"
   ]
  },
  {
   "cell_type": "markdown",
   "metadata": {},
   "source": [
    "There are six moving model provided, each model can adjust velocity freely"
   ]
  },
  {
   "cell_type": "code",
   "execution_count": 19,
   "metadata": {},
   "outputs": [],
   "source": [
    "DIRECTION = [\"FORWARD\",\"BACKWARD\",\n",
    "             \"LEFT_S\",\"RIGHT_S\",\n",
    "             \"LEFT_R\",\"RIGHT_R\"]"
   ]
  },
  {
   "cell_type": "markdown",
   "metadata": {},
   "source": [
    "### 2. Control the car to move by using the information of usranger\n",
    "\n",
    "input the direction into run_us.move() function, the default power is set as 50%\n",
    "\n",
    "and the range of power is from 0 - 100 (unit: percent)\n",
    "\n",
    "e.g.\n",
    "* run_lt.move(\"FORWARD\") legal\n",
    "* run_lt.move(\"BACKWARD\", 60) legal\n",
    "* run_lt.move(\"backward\") illegal\n",
    "* run_lt.move(\"LEFT_S\",101) illegal\n",
    "\n",
    "The threshold can be set depend by your own.\n",
    "\n",
    "In this example, the threshold is 10 (centimeter)"
   ]
  },
  {
   "cell_type": "code",
   "execution_count": 22,
   "metadata": {},
   "outputs": [
    {
     "name": "stdout",
     "output_type": "stream",
     "text": [
      "72.0\n",
      "61.333333333333336\n",
      "28.333333333333332\n",
      "20.333333333333332\n",
      "34.666666666666664\n",
      "72.33333333333333\n",
      "53.666666666666664\n",
      "32.0\n",
      "32.666666666666664\n",
      "34.666666666666664\n",
      "98.66666666666667\n",
      "64.33333333333333\n",
      "87.33333333333333\n",
      "82.66666666666667\n",
      "47.666666666666664\n",
      "64.66666666666667\n",
      "42.666666666666664\n",
      "29.0\n",
      "31.666666666666668\n",
      "46.0\n",
      "57.0\n",
      "59.0\n",
      "35.666666666666664\n",
      "35.0\n",
      "37.666666666666664\n",
      "62.333333333333336\n",
      "107.66666666666667\n",
      "58.666666666666664\n",
      "44.333333333333336\n",
      "46.333333333333336\n",
      "59.666666666666664\n",
      "34.333333333333336\n",
      "77.33333333333333\n",
      "51.666666666666664\n",
      "33.666666666666664\n",
      "21.0\n",
      "21.333333333333332\n",
      "21.0\n",
      "30.333333333333332\n",
      "25.333333333333332\n",
      "25.333333333333332\n",
      "22.666666666666668\n",
      "31.0\n",
      "28.333333333333332\n",
      "19.333333333333332\n",
      "33.333333333333336\n",
      "48.0\n",
      "44.333333333333336\n",
      "51.333333333333336\n",
      "39.666666666666664\n",
      "34.666666666666664\n",
      "35.0\n",
      "35.0\n",
      "40.0\n",
      "46.333333333333336\n",
      "83.33333333333333\n",
      "152.66666666666666\n",
      "142.0\n",
      "81.66666666666667\n",
      "51.0\n",
      "21.0\n",
      "5.333333333333333\n",
      "10.333333333333334\n",
      "45.666666666666664\n",
      "46.666666666666664\n",
      "107.0\n",
      "95.0\n",
      "91.33333333333333\n",
      "105.0\n",
      "85.0\n",
      "58.333333333333336\n",
      "79.33333333333333\n",
      "33.666666666666664\n",
      "29.0\n",
      "34.0\n",
      "57.0\n",
      "35.666666666666664\n",
      "81.66666666666667\n",
      "34.666666666666664\n",
      "61.0\n",
      "35.666666666666664\n"
     ]
    },
    {
     "ename": "KeyboardInterrupt",
     "evalue": "",
     "output_type": "error",
     "traceback": [
      "\u001b[0;31m---------------------------------------------------------------------------\u001b[0m",
      "\u001b[0;31mKeyboardInterrupt\u001b[0m                         Traceback (most recent call last)",
      "\u001b[0;32m<ipython-input-22-1a2a75cde9e5>\u001b[0m in \u001b[0;36m<module>\u001b[0;34m()\u001b[0m\n\u001b[1;32m      4\u001b[0m     \u001b[0;32mfor\u001b[0m \u001b[0mi\u001b[0m \u001b[0;32min\u001b[0m \u001b[0mrange\u001b[0m\u001b[0;34m(\u001b[0m\u001b[0;36m3\u001b[0m\u001b[0;34m)\u001b[0m\u001b[0;34m:\u001b[0m\u001b[0;34m\u001b[0m\u001b[0m\n\u001b[1;32m      5\u001b[0m         \u001b[0mdata\u001b[0m \u001b[0;34m+=\u001b[0m \u001b[0mrun_us\u001b[0m\u001b[0;34m.\u001b[0m\u001b[0mget_distance\u001b[0m\u001b[0;34m(\u001b[0m\u001b[0;34m)\u001b[0m\u001b[0;34m\u001b[0m\u001b[0m\n\u001b[0;32m----> 6\u001b[0;31m         \u001b[0msleep\u001b[0m\u001b[0;34m(\u001b[0m\u001b[0;36m0.06\u001b[0m\u001b[0;34m)\u001b[0m\u001b[0;34m\u001b[0m\u001b[0m\n\u001b[0m\u001b[1;32m      7\u001b[0m     \u001b[0mdata\u001b[0m \u001b[0;34m=\u001b[0m \u001b[0mdata\u001b[0m\u001b[0;34m/\u001b[0m\u001b[0;36m3\u001b[0m\u001b[0;34m\u001b[0m\u001b[0m\n\u001b[1;32m      8\u001b[0m     \u001b[0mprint\u001b[0m\u001b[0;34m(\u001b[0m\u001b[0mdata\u001b[0m\u001b[0;34m)\u001b[0m\u001b[0;34m\u001b[0m\u001b[0m\n",
      "\u001b[0;31mKeyboardInterrupt\u001b[0m: "
     ]
    }
   ],
   "source": [
    "while(1):\n",
    "    sleep(0.2)\n",
    "    data = 0\n",
    "    for i in range(3):\n",
    "        data += run_us.get_distance()\n",
    "        sleep(0.06)\n",
    "    data = data/3\n",
    "    print(data)\n",
    "    if data < 50:\n",
    "        run_us.move(\"RIGHT_R\")\n",
    "        sleep(0.2)\n",
    "    else: \n",
    "        run_us.move(\"FORWARD\", 20)\n",
    "        sleep(0.5)\n",
    "    if data == 1000:\n",
    "        run_us.stop()\n",
    "        print(\"usranger ought to reboot!\")\n",
    "        break\n",
    "print(\"Run to the terminal!\")"
   ]
  },
  {
   "cell_type": "code",
   "execution_count": 13,
   "metadata": {},
   "outputs": [
    {
     "name": "stdout",
     "output_type": "stream",
     "text": [
      "1000\n"
     ]
    }
   ],
   "source": [
    "data = run_us.get_distance()\n",
    "print(data)"
   ]
  },
  {
   "cell_type": "code",
   "execution_count": 23,
   "metadata": {},
   "outputs": [],
   "source": [
    "run_us.stop()"
   ]
  },
  {
   "cell_type": "code",
   "execution_count": null,
   "metadata": {},
   "outputs": [],
   "source": []
  }
 ],
 "metadata": {
  "kernelspec": {
   "display_name": "Python 3",
   "language": "python",
   "name": "python3"
  },
  "language_info": {
   "codemirror_mode": {
    "name": "ipython",
    "version": 3
   },
   "file_extension": ".py",
   "mimetype": "text/x-python",
   "name": "python",
   "nbconvert_exporter": "python",
   "pygments_lexer": "ipython3",
   "version": "3.6.5"
  }
 },
 "nbformat": 4,
 "nbformat_minor": 1
}
