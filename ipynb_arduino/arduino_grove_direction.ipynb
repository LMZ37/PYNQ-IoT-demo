{
 "cells": [
  {
   "cell_type": "markdown",
   "metadata": {},
   "source": [
    "# Grove direction Example\n",
    "\n",
    "This example shows how to use the [Grove IMU](https://www.seeedstudio.com/Grove-IMU-10DOF-v2-0-p-2691.html) on the Pynq-Z2 board.\n",
    "For this notebook, a PYNQ Arduino shield is also required.  The IMU is attached to the I2C connection on the shield.\n",
    "We use IMU as a direction indicator."
   ]
  },
  {
   "cell_type": "code",
   "execution_count": 1,
   "metadata": {},
   "outputs": [
    {
     "data": {
      "application/javascript": [
       "\n",
       "require(['notebook/js/codecell'], function(codecell) {\n",
       "  codecell.CodeCell.options_default.highlight_modes[\n",
       "      'magic_text/x-csrc'] = {'reg':[/^%%microblaze/]};\n",
       "  Jupyter.notebook.events.one('kernel_ready.Kernel', function(){\n",
       "      Jupyter.notebook.get_cells().map(function(cell){\n",
       "          if (cell.cell_type == 'code'){ cell.auto_highlight(); } }) ;\n",
       "  });\n",
       "});\n"
      ]
     },
     "metadata": {},
     "output_type": "display_data"
    }
   ],
   "source": [
    "# Make sure the base overlay is loaded\n",
    "from pynq.overlays.base import BaseOverlay\n",
    "base = BaseOverlay(\"base.bit\")"
   ]
  },
  {
   "cell_type": "markdown",
   "metadata": {},
   "source": [
    "### 1. Instantiate the IMU"
   ]
  },
  {
   "cell_type": "code",
   "execution_count": 2,
   "metadata": {},
   "outputs": [],
   "source": [
    "PINS = {\"ARDUINO_GROVE_G1\":[2,3],\"ARDUINO_GROVE_G2\":[3,4],\"ARDUINO_GROVE_G3\":[4,5],\"ARDUINO_GROVE_G4\":[6,7],\n",
    "        \"ARDUINO_GROVE_G5\":[8,9],\"ARDUINO_GROVE_G6\":[10,11],\"ARDUINO_GROVE_G7\":[12,13],\"ARDUINO_GROVE_I2C\":[18,19]}"
   ]
  },
  {
   "cell_type": "code",
   "execution_count": 12,
   "metadata": {},
   "outputs": [],
   "source": [
    "#from pynq.lib.arduino import Grove_IMU\n",
    "from pynq.lib.arduino import G_IMU\n",
    "\n",
    "# Instantiate Grove IMU on Arduino shield I2C\n",
    "#imu = Grove_IMU(base.ARDUINO, PINS[\"ARDUINO_GROVE_I2C\"])\n",
    "imu = G_IMU(base.ARDUINO, PINS[\"ARDUINO_GROVE_I2C\"])"
   ]
  },
  {
   "cell_type": "markdown",
   "metadata": {},
   "source": [
    "### 2. Use IMU demonstrate the direction"
   ]
  },
  {
   "cell_type": "code",
   "execution_count": null,
   "metadata": {},
   "outputs": [
    {
     "name": "stdout",
     "output_type": "stream",
     "text": [
      "Now, heading:270.0, tilt heading:252.62,altitude:2030.6 meters\n",
      "Now, heading:270.0, tilt heading:253.74,altitude:2030.6 meters\n",
      "Now, heading:266.37, tilt heading:252.05,altitude:2030.6 meters\n",
      "Now, heading:270.0, tilt heading:249.86,altitude:2030.6 meters\n",
      "Now, heading:263.1, tilt heading:261.04,altitude:2030.6 meters\n",
      "Now, heading:258.17, tilt heading:249.98,altitude:2030.6 meters\n",
      "Now, heading:256.99, tilt heading:241.16,altitude:2030.6 meters\n",
      "Now, heading:259.88, tilt heading:242.86,altitude:2030.6 meters\n",
      "Now, heading:262.48, tilt heading:248.27,altitude:2030.6 meters\n",
      "Now, heading:263.53, tilt heading:248.42,altitude:2030.6 meters\n",
      "Now, heading:263.77, tilt heading:248.02,altitude:2030.6 meters\n",
      "Now, heading:266.98, tilt heading:247.48,altitude:2030.6 meters\n",
      "Now, heading:261.51, tilt heading:242.33,altitude:2030.6 meters\n",
      "Now, heading:262.34, tilt heading:243.45,altitude:2030.6 meters\n",
      "Now, heading:237.88, tilt heading:223.82,altitude:2030.6 meters\n",
      "Now, heading:279.01, tilt heading:215.33,altitude:2030.6 meters\n",
      "Now, heading:276.16, tilt heading:226.75,altitude:2030.6 meters\n",
      "Now, heading:274.84, tilt heading:225.34,altitude:2030.6 meters\n"
     ]
    }
   ],
   "source": [
    "from time import sleep\n",
    "\n",
    "data = []\n",
    "\n",
    "while(1):\n",
    "    data = imu.get_data()\n",
    "    heading = imu.get_heading()\n",
    "    tilt = imu.get_tilt_heading()\n",
    "    altitude = imu.get_altitude()\n",
    "    print('Now, heading:{}, tilt heading:{},altitude:{} meters'.format(heading, tilt, altitude))\n",
    "    #print(data)\n",
    "    sleep(1)"
   ]
  },
  {
   "cell_type": "code",
   "execution_count": null,
   "metadata": {},
   "outputs": [],
   "source": []
  }
 ],
 "metadata": {
  "kernelspec": {
   "display_name": "Python 3",
   "language": "python",
   "name": "python3"
  },
  "language_info": {
   "codemirror_mode": {
    "name": "ipython",
    "version": 3
   },
   "file_extension": ".py",
   "mimetype": "text/x-python",
   "name": "python",
   "nbconvert_exporter": "python",
   "pygments_lexer": "ipython3",
   "version": "3.6.5"
  }
 },
 "nbformat": 4,
 "nbformat_minor": 1
}
